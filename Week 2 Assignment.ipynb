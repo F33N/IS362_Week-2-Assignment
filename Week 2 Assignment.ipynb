{
 "cells": [
  {
   "cell_type": "code",
   "execution_count": null,
   "id": "2c509a75",
   "metadata": {},
   "outputs": [],
   "source": [
    "# Python Set Comprehensions and zip() Function\n",
    "\n",
    "In this notebook, we will explore two powerful concepts in Python - Set Comprehensions and the zip() function. \n",
    "\n",
    "## Set Comprehensions\n",
    "Set comprehensions are a way to create sets in Python using a single line of code. They follow a similar syntax to list comprehensions, but are used to create sets instead of lists. \n",
    "\n",
    "## zip() Function\n",
    "The zip() function is a built-in Python function used to combine two or more iterables into a single iterable. It is commonly used when we need to iterate over two or more lists in parallel.\n"
   ]
  },
  {
   "cell_type": "code",
   "execution_count": 1,
   "id": "b2386123",
   "metadata": {},
   "outputs": [
    {
     "name": "stdout",
     "output_type": "stream",
     "text": [
      "{1, 2, 3, 4, 5, 6, 7, 8, 9}\n"
     ]
    }
   ],
   "source": [
    "### Demonstration of Set Comprehensions\n",
    "\n",
    "# Create a list of numbers\n",
    "numbers = [1, 2, 2, 3, 4, 4, 4, 5, 6, 6, 6, 7, 8, 8, 8, 9]\n",
    "\n",
    "# Use set comprehension to create a set of unique numbers\n",
    "unique_numbers = {number for number in numbers}\n",
    "\n",
    "print(unique_numbers)\n",
    "\n"
   ]
  },
  {
   "cell_type": "code",
   "execution_count": 2,
   "id": "623bcf58",
   "metadata": {},
   "outputs": [
    {
     "name": "stdout",
     "output_type": "stream",
     "text": [
      "[(1, 'a'), (2, 'b'), (3, 'c'), (4, 'd'), (5, 'e')]\n"
     ]
    }
   ],
   "source": [
    "### Demonstration of zip() Function\n",
    "\n",
    "# Create two lists\n",
    "list1 = [1, 2, 3, 4, 5]\n",
    "list2 = ['a', 'b', 'c', 'd', 'e']\n",
    "\n",
    "# Use the zip() function to combine the lists\n",
    "zipped = list(zip(list1, list2))\n",
    "\n",
    "print(zipped)"
   ]
  },
  {
   "cell_type": "code",
   "execution_count": null,
   "id": "2d8d728e",
   "metadata": {},
   "outputs": [],
   "source": []
  }
 ],
 "metadata": {
  "kernelspec": {
   "display_name": "Python 3 (ipykernel)",
   "language": "python",
   "name": "python3"
  },
  "language_info": {
   "codemirror_mode": {
    "name": "ipython",
    "version": 3
   },
   "file_extension": ".py",
   "mimetype": "text/x-python",
   "name": "python",
   "nbconvert_exporter": "python",
   "pygments_lexer": "ipython3",
   "version": "3.10.9"
  }
 },
 "nbformat": 4,
 "nbformat_minor": 5
}
